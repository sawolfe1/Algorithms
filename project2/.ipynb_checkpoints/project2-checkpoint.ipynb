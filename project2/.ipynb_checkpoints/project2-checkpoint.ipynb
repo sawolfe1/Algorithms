{
 "cells": [
  {
   "cell_type": "code",
   "execution_count": 8,
   "metadata": {},
   "outputs": [],
   "source": [
    "from random import randint\n",
    "import timeit\n",
    "from matplotlib import pyplot as plt\n",
    "\n",
    "algorithms = \"\"\"\n",
    "\n",
    "def merge(a, b):\n",
    "    c = []\n",
    "    while len(a) != 0 and len(b) != 0:\n",
    "        if a[0] < b[0]:\n",
    "            c.append(a[0])\n",
    "            a.remove(a[0])\n",
    "        else:\n",
    "            c.append(b[0])\n",
    "            b.remove(b[0])\n",
    "    if len(a) == 0:\n",
    "        c += b\n",
    "    else:\n",
    "        c += a\n",
    "    return c\n",
    "\n",
    "\n",
    "def mergeSort(A):\n",
    "    if len(A) < 2:\n",
    "        return A\n",
    "    else:\n",
    "        middle = int(len(A)/2)\n",
    "        a = mergeSort(A[:middle])\n",
    "        b = mergeSort(A[middle:])\n",
    "        return merge(a, b)\n",
    "        \n",
    "def bubbleSort(a):\n",
    "    length = len(a)\n",
    "    for i in range(length):\n",
    "        for j in range(length-1, i, -1):\n",
    "            if a[j] < a[j-1]:\n",
    "                bigger = a[j-1]\n",
    "                a[j-1] = a[j]\n",
    "                a[j] = bigger\n",
    "    return(a)\n",
    "    \n",
    "def bubbleSortWithSwapsCounting(a):\n",
    "    length = len(a)\n",
    "    i = 0\n",
    "    swapcount = 1\n",
    "    while i < length and swapcount > 0:\n",
    "        swaps = 0\n",
    "        for j in range(length-1, i, -1):\n",
    "            if a[j] < a[j-1]:\n",
    "                bigger = a[j-1]\n",
    "                a[j-1] = a[j]\n",
    "                a[j] = bigger\n",
    "                swaps += 1\n",
    "        i += 1\n",
    "        swapcount = swaps\n",
    "    return(a)\n",
    "    \n",
    "def insertionSort(a):\n",
    "    length = len(a)\n",
    "    i = 1\n",
    "    while i < length:\n",
    "        j = i\n",
    "        while j > 0 and a[j-1] > a[j]:\n",
    "            bigger = a[j-1]\n",
    "            a[j-1] = a[j]\n",
    "            a[j] = bigger\n",
    "            j = j-1\n",
    "        i += 1\n",
    "    return a\n",
    "    \n",
    "def quicksort(A, p, r):\n",
    "    if p < r:\n",
    "        q = partition(A, p, r)\n",
    "        quicksort(A, p, q-1)\n",
    "        quicksort(A, q, r)\n",
    "    return(A)\n",
    "\n",
    "\n",
    "def partition(A, p, r):\n",
    "    x = A[r]\n",
    "    i = p-1\n",
    "    for j in range(p, r):\n",
    "        if A[j] <= x:\n",
    "            i += 1\n",
    "            A[i], A[j] = A[j], A[i]\n",
    "    A[i+1], A[r] = A[r], A[i+1]\n",
    "    return(i+1)\n",
    "    \n",
    "def selectionSort(a):\n",
    "\n",
    "    length = len(a)\n",
    "    for i in range(length-1):\n",
    "        mini = i\n",
    "        for j in range(i+1, length):\n",
    "            if (a[j] < a[mini]):\n",
    "                mini = j\n",
    "\n",
    "        if (mini != i):\n",
    "            bigger = a[i]\n",
    "            a[i] = a[mini]\n",
    "            a[mini] = bigger\n",
    "\n",
    "    return(a)\n",
    "  \n",
    "\"\"\"\n",
    "\n",
    "algorithmNames = [\"Merge\\nSort\", \"Bubble\\nSort\", \"Bubble\\nSort 2\", \"Insertion\\nSort\", \"Quick\\nSort\", \"Selection\\nSort\"]\n"
   ]
  },
  {
   "cell_type": "code",
   "execution_count": 9,
   "metadata": {},
   "outputs": [],
   "source": [
    "\n",
    "sortedArray100 = [i for i in range(100)]\n",
    "sortedArray1000 = [i for i in range(1000)]\n",
    "sortedArray10000 = [i for i in range(10000)]\n",
    "\n",
    "randomArray100 = [randint(0, 100) for i in range(100)]\n",
    "randomArray1000 = [randint(0, 1000) for i in range(1000)]\n",
    "randomArray10000 = [randint(0, 10000) for i in range(10000)]\n",
    "\n",
    "semiSortedArray100 = [i if i % 10 != 0 else i+10 for i in range(100)]\n",
    "semiSortedArray1000 = [i if i % 10 != 0 else i+10 for i in range(1000)]\n",
    "semiSortedArray10000 = [i if i % 10 != 0 else i+10 for i in range(10000)]"
   ]
  },
  {
   "cell_type": "code",
   "execution_count": 10,
   "metadata": {},
   "outputs": [],
   "source": [
    "\n",
    "timesSorted100 = []\n",
    "\n",
    "timesSorted100.append(timeit.timeit(stmt=f\"mergeSort({sortedArray100})\", setup=algorithms, number=10))\n",
    "timesSorted100.append(timeit.timeit(stmt=f\"bubbleSort({sortedArray100})\", setup=algorithms, number=10))\n",
    "timesSorted100.append(timeit.timeit(stmt=f\"bubbleSortWithSwapsCounting({sortedArray100})\", setup=algorithms, number=10))\n",
    "timesSorted100.append(timeit.timeit(stmt=f\"insertionSort({sortedArray100})\", setup=algorithms, number=10))\n",
    "timesSorted100.append(timeit.timeit(stmt=f\"quicksort({sortedArray100}, 0, len({sortedArray100})-1)\", setup=algorithms, number=10))\n",
    "timesSorted100.append(timeit.timeit(stmt=f\"selectionSort({sortedArray100})\", setup=algorithms, number=10))\n"
   ]
  },
  {
   "cell_type": "code",
   "execution_count": 11,
   "metadata": {},
   "outputs": [],
   "source": [
    "\n",
    "timesSorted1000 = []\n",
    "\n",
    "timesSorted1000.append(timeit.timeit(stmt=f\"mergeSort({sortedArray1000})\", setup=algorithms, number=10))\n",
    "timesSorted1000.append(timeit.timeit(stmt=f\"bubbleSort({sortedArray1000})\", setup=algorithms, number=10))\n",
    "timesSorted1000.append(timeit.timeit(stmt=f\"bubbleSortWithSwapsCounting({sortedArray1000})\", setup=algorithms, number=10))\n",
    "timesSorted1000.append(timeit.timeit(stmt=f\"insertionSort({sortedArray1000})\", setup=algorithms, number=10))\n",
    "timesSorted1000.append(timeit.timeit(stmt=f\"quicksort({sortedArray1000}, 0, len({sortedArray1000})-1)\", setup=algorithms, number=10))\n",
    "timesSorted1000.append(timeit.timeit(stmt=f\"selectionSort({sortedArray1000})\", setup=algorithms, number=10))"
   ]
  },
  {
   "cell_type": "code",
   "execution_count": 12,
   "metadata": {},
   "outputs": [],
   "source": [
    "# this will kill the kernal (quicksort kills it)\n",
    "algorithmNamesNoQS = [\"Merge\\nSort\", \"Bubble\\nSort\", \"Bubble\\nSort 2\", \"Insertion\\nSort\", \"Selection\\nSort\"]\n",
    "\n",
    "timesSorted10000 = []\n",
    "\n",
    "timesSorted10000.append(timeit.timeit(stmt=f\"mergeSort({sortedArray10000})\", setup=algorithms, number=10))\n",
    "timesSorted10000.append(timeit.timeit(stmt=f\"bubbleSort({sortedArray10000})\", setup=algorithms, number=10))\n",
    "timesSorted10000.append(timeit.timeit(stmt=f\"bubbleSortWithSwapsCounting({sortedArray10000})\", setup=algorithms, number=10))\n",
    "timesSorted10000.append(timeit.timeit(stmt=f\"insertionSort({sortedArray10000})\", setup=algorithms, number=10))\n",
    "#timesSorted10000.append(timeit.timeit(stmt=f\"quicksort({sortedArray10000}, 0, len({sortedArray10000})-1)\", setup=algorithms, number=10))\n",
    "timesSorted10000.append(timeit.timeit(stmt=f\"selectionSort({sortedArray10000})\", setup=algorithms, number=10))"
   ]
  },
  {
   "cell_type": "code",
   "execution_count": null,
   "metadata": {},
   "outputs": [],
   "source": [
    "timesRandom100 = []\n",
    "timesRandom1000 = []\n",
    "timesRandom10000 = []\n",
    "\n",
    "timesSemiSorted100 = []\n",
    "timesSemiSorted1000 = []\n",
    "timesSemiSorted10000 = []"
   ]
  },
  {
   "cell_type": "code",
   "execution_count": 14,
   "metadata": {},
   "outputs": [
    {
     "data": {
      "image/png": "[encoded data removed]",
      "text/plain": [
       "<Figure size 432x288 with 1 Axes>"
      ]
     },
     "metadata": {
      "needs_background": "light"
     },
     "output_type": "display_data"
    }
   ],
   "source": [
    "from matplotlib import pyplot as plt\n",
    "\n",
    "algorithmNames10000 = [\"Merge\\nSort\", \"Bubble\\nSort\", \"Bubble\\nSort 2\", \"Insertion\\nSort\", \"Selection\\nSort\"]\n",
    "\n",
    "\n",
    "plt.bar(algorithmNames10000, timesSorted10000, align='center')\n",
    "plt.xlabel(\"Algorithms\")\n",
    "plt.ylabel(\"Time (s)\")\n",
    "\n",
    "plt.show()"
   ]
  },
  {
   "cell_type": "code",
   "execution_count": null,
   "metadata": {},
   "outputs": [],
   "source": []
  }
 ],
 "metadata": {
  "kernelspec": {
   "display_name": "Python 3",
   "language": "python",
   "name": "python3"
  },
  "language_info": {
   "codemirror_mode": {
    "name": "ipython",
    "version": 3
   },
   "file_extension": ".py",
   "mimetype": "text/x-python",
   "name": "python",
   "nbconvert_exporter": "python",
   "pygments_lexer": "ipython3",
   "version": "3.6.4"
  }
 },
 "nbformat": 4,
 "nbformat_minor": 2
}
